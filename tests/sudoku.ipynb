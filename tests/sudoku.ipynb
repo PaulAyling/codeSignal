{
 "cells": [
  {
   "cell_type": "code",
   "execution_count": 11,
   "metadata": {},
   "outputs": [],
   "source": [
    "matrix = [[0, 4, 3, 0, 8, 0, 2, 5, 0],\n",
    "       [6, 0, 0, 0, 0, 0, 0, 0, 0],\n",
    "       [0, 0, 0, 0, 0, 1, 0, 9, 4],\n",
    "       [9, 0, 0, 0, 0, 4, 0, 7, 0],\n",
    "       [0, 0, 0, 6, 0, 8, 0, 0, 0],\n",
    "       [0, 1, 0, 2, 0, 0, 0, 0, 3],\n",
    "       [8, 2, 0, 5, 0, 0, 0, 0, 0],\n",
    "       [0, 0, 0, 0, 0, 0, 0, 0, 5],\n",
    "       [0, 3, 4, 0, 9, 0, 7, 1, 0]]"
   ]
  },
  {
   "cell_type": "code",
   "execution_count": 21,
   "metadata": {},
   "outputs": [
    {
     "name": "stdout",
     "output_type": "stream",
     "text": [
      "0 7 itemsLeft: {0, 1, 2, 3, 4, 5, 7, 8, 9} Items Outstanding: 6\n",
      "8 3 itemsLeft: {0, 1, 2, 3, 4, 5, 6, 7, 9} Items Outstanding: 8\n"
     ]
    }
   ],
   "source": [
    "def solveSuduko(matrix):\n",
    "  def addNumber(l):\n",
    "    return 45 - sum(l)\n",
    "  def findCandidates(l):\n",
    "    full = [1,2,3,4,5,6,7,8,9]\n",
    "    def getDiff(n):\n",
    "      return False if n in l else True\n",
    "    res = filter(getDiff, full)\n",
    "    return list(res)\n",
    "  def solve_char(row,char,matrix):\n",
    "    def get_row(row,matrix):\n",
    "      l = matrix[row]\n",
    "      return l\n",
    "    def get_col(char,matrix):\n",
    "      l = list()\n",
    "      for row in range(len(matrix)):\n",
    "        l.append(matrix[row][char])\n",
    "      return l\n",
    "    def get_square(row,char,matrix):\n",
    "      quad_row = int(row / 3)\n",
    "      quad_char = int(char/3)\n",
    "      # print(row,char,'|',quad_row,quad_char)\n",
    "      r1 = matrix[quad_row][quad_char:quad_char+3]\n",
    "      r2 = matrix[quad_row+1][quad_char:quad_char+3] + r1\n",
    "      l = matrix[quad_row+2][quad_char:quad_char+3] + r2\n",
    "      return l\n",
    "    def cumNumbers(get_row,get_col,get_square):\n",
    "      get_row.extend(get_col)\n",
    "      get_row.extend(get_square)\n",
    "      res = set(get_row)\n",
    "      return res\n",
    "  \n",
    "       \n",
    "\n",
    "    row_nbrs = list(set(get_row(row,matrix)))\n",
    "    col_nbrs = list(set(get_col(char,matrix)))\n",
    "    square_nbrs = list(set(get_square(row,char,matrix)))\n",
    "    # print('row_nbrs',row_nbrs)\n",
    "    # print('col_nbrs',col_nbrs)\n",
    "    # print('square_nbrs',square_nbrs)\n",
    "    all_nbrs = cumNumbers(row_nbrs,col_nbrs,square_nbrs)\n",
    "    items_outstanding = findCandidates(all_nbrs)\n",
    "    if len(items_outstanding)==1:\n",
    "      print(row,char,\"itemsLeft:\",all_nbrs, 'Items Outstanding:',items_outstanding)\n",
    "      matrix[row][char] = sum(items_outstanding)\n",
    "      \n",
    "\n",
    "  for row in range(len(matrix)):\n",
    "    for char in range(len(matrix[0])):\n",
    "      solve_char(row,char,matrix)\n",
    "\n",
    "solveSuduko(matrix)\n",
    "\n",
    "\n",
    "# NEXT STEP CHANGE LOO TO A WHILE AND RESET LOOOP WHEN FIND POPULATE A SUDUKU"
   ]
  },
  {
   "cell_type": "markdown",
   "metadata": {},
   "source": [
    "GUIDE FOR SOLVING THIS PROBLEM\n",
    "Prerequisites\n",
    "Identify what is required to \n",
    "\n",
    "\n",
    "create solver functions: solve_row, solve_box, solve_col, addNumber\n",
    "create loop to loop through every item in matrix\n",
    "evaluate solver functions for each item in matrix\n",
    "If one of the solverFunctions == True then add the new number to the \n",
    "\n",
    "\n",
    "Solver Functions\n",
    "For each list identify if there is just one blank\n",
    "\n",
    "so for [1,3,2,\"\",5,6,7,8,9]\n",
    "\n",
    "addNumber\n",
    "this identifies the number that needs to be added once the solver function has identified it is possible to add new number"
   ]
  },
  {
   "cell_type": "markdown",
   "metadata": {},
   "source": [
    "print(1+2+3+4+5+6+7+8+9)"
   ]
  },
  {
   "cell_type": "code",
   "execution_count": null,
   "metadata": {},
   "outputs": [],
   "source": [
    "def solve_col(char,matrix):\n",
    "  l = list()\n",
    "  for row in range(len(matrix)):\n",
    "    l.append(matrix[row][char])\n",
    "    print(l)\n",
    "  return True if l.count(0) == 1 else False\n",
    "char = 1\n",
    "\n",
    "print(solve_col(char,matrix))"
   ]
  },
  {
   "cell_type": "code",
   "execution_count": null,
   "metadata": {},
   "outputs": [],
   "source": [
    "row = 0\n",
    "char =2\n",
    "def getSquare(row,char,matrix):\n",
    "  quad_row = int(row / 3)\n",
    "  quad_char = int(char/3)\n",
    "  print(row,char,'|',quad_row,quad_char)\n",
    "  r1 = matrix[quad_row][quad_char:quad_char+3]\n",
    "  r2 = matrix[quad_row+1][quad_char:quad_char+3] + r1\n",
    "  l = matrix[quad_row+2][quad_char:quad_char+3] + r2\n",
    "  return True if l.count(0) == 1 else False\n",
    "getSquare(row,char,matrix)"
   ]
  },
  {
   "cell_type": "code",
   "execution_count": null,
   "metadata": {},
   "outputs": [],
   "source": [
    "def findCandidates(l):\n",
    "  full = [1,2,3,4,5,6,7,8,9]\n",
    "  def getDiff(n):\n",
    "    return False if n in l else True\n",
    "  res = filter(getDiff, full)\n",
    "  return list(res)\n",
    "\n",
    "l = [0,1,2,3,4,5,6,7,8]\n",
    "findCandidates(l)"
   ]
  },
  {
   "cell_type": "code",
   "execution_count": null,
   "metadata": {},
   "outputs": [],
   "source": [
    "full = [1,2,3,4,5,6,7,8,9]\n",
    "a= [1, 6, 7, 9] \n",
    "b=[1, 2, 3, 4, 5, 7]\n",
    "c=[1, 2, 5, 7, 8, 9]\n",
    "l2 = [1, 2, 3, 4, 5, 7] + a\n",
    "l3 = set([1, 2, 5, 7, 8, 9] +b)\n",
    "print(l3)\n"
   ]
  },
  {
   "cell_type": "code",
   "execution_count": null,
   "metadata": {},
   "outputs": [],
   "source": [
    "1,2\n",
    "1,2\n",
    "1,2\n",
    "\n",
    "False\n",
    "1,2\n",
    "1,\n",
    "3,4\n",
    "True"
   ]
  }
 ],
 "metadata": {
  "interpreter": {
   "hash": "a8ed6b6aaa83e0c75564d8643a7111be6f47b679c5d32737ff20a5a7a3944855"
  },
  "kernelspec": {
   "display_name": "Python 3.8.5 64-bit ('base': conda)",
   "name": "python3"
  },
  "language_info": {
   "codemirror_mode": {
    "name": "ipython",
    "version": 3
   },
   "file_extension": ".py",
   "mimetype": "text/x-python",
   "name": "python",
   "nbconvert_exporter": "python",
   "pygments_lexer": "ipython3",
   "version": "3.8.5"
  },
  "orig_nbformat": 4
 },
 "nbformat": 4,
 "nbformat_minor": 2
}