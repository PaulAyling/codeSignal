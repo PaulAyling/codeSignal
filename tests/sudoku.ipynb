{
 "cells": [
  {
   "cell_type": "code",
   "execution_count": 25,
   "source": [
    "# SUDUKO APP OVERIEW\n",
    "# 1. solveSuduku        |   This runs updateOneIteration repeatedly until either: \n",
    "#                           a: The game is found to be impossible\n",
    "#                           b: The board is filled in correctly\n",
    "# 2. updateOneIteration |   The input board is iterated once, updating any blank where\n",
    "#                           an update is possible (using solvChar).\n",
    "# 3. solveChar          |   each item in the matrix is evaluated and updated if it      #                           is possible to do so."
   ],
   "outputs": [],
   "metadata": {}
  },
  {
   "cell_type": "code",
   "execution_count": 36,
   "source": [
    "import copy\n",
    "matrix= [[0, 4, 0, 0, 0, 0, 1, 7, 9], \n",
    "[0, 0, 2, 0, 0, 8, 0, 5, 4], \n",
    "[0, 0, 6, 0, 0, 5, 0, 0, 8], \n",
    "[0, 8, 0, 0, 7, 0, 9, 1, 0], \n",
    "[0, 5, 0, 0, 9, 0, 0, 3, 0], \n",
    "[0, 1, 9, 0, 6, 0, 0, 4, 0], \n",
    "[3, 0, 0, 4, 0, 0, 7, 0, 0], \n",
    "[5, 7, 0, 1, 0, 0, 2, 0, 0], \n",
    "[9, 2, 8, 0, 0, 0, 0, 6, 0]] \n",
    "m_orig = copy.deepcopy(matrix)"
   ],
   "outputs": [],
   "metadata": {}
  },
  {
   "cell_type": "code",
   "execution_count": 38,
   "source": [
    "def updateOneIteration(matrix):\n",
    "  def solve_char(row,char,matrix):\n",
    "    #Get Lists\n",
    "    def get_row(row,matrix):\n",
    "      l = matrix[row]\n",
    "      return l\n",
    "    def get_col(char,matrix):\n",
    "      l = list()\n",
    "      for row in range(len(matrix)):\n",
    "        l.append(matrix[row][char])\n",
    "      return l\n",
    "    def get_square(row,char,matrix):\n",
    "      #The suduko is divided into 9 sub squares (3 sub x and 3 y)\n",
    "      sub_x = int(char/3)\n",
    "      sub_y = int(row / 3)\n",
    "      subs = {0:[0,1,2],1:[3,4,5],2:[6,7,8]}\n",
    "      res = list()\n",
    "      for row in subs[sub_y]:\n",
    "        for char in subs[sub_x]:\n",
    "          print(row,char)\n",
    "          res.append(matrix[row][char])\n",
    "      return res\n",
    "    def findCandidates(l):\n",
    "      full = [1,2,3,4,5,6,7,8,9]\n",
    "      return  list(filter(lambda x: x not in l, full))\n",
    "      # print(row,char,'|',quad_row,quad_char)\n",
    "      r1 = matrix[quad_row][quad_char:quad_char+3]\n",
    "      r2 = matrix[quad_row+1][quad_char:quad_char+3] + r1\n",
    "      l = matrix[quad_row+2][quad_char:quad_char+3] + r2\n",
    "      return l\n",
    "    def consolidateLists(get_row,get_col,get_square):\n",
    "      get_row.extend(get_col)\n",
    "      get_row.extend(get_square)\n",
    "      res = set(get_row)\n",
    "      return res\n",
    "    #  solve_char Program\n",
    "    if matrix[row][char] == 0:\n",
    "      row_nbrs = list(set(get_row(row,matrix)))\n",
    "      col_nbrs = list(set(get_col(char,matrix)))\n",
    "      square_nbrs = list(set(get_square(row,char,matrix)))\n",
    "      all_nbrs = consolidateLists(row_nbrs,col_nbrs,square_nbrs)\n",
    "      items_outstanding = findCandidates(all_nbrs)\n",
    "      return items_outstanding\n",
    "    else:\n",
    "      return []\n",
    "\n",
    "# FUNCTIONS FOR MAIN LOOP\n",
    "  def countAllZeros(matrix):\n",
    "      running_sum=0\n",
    "      for row in range(len(array)):\n",
    "        running_sum += array[row].count(4)\n",
    "      return running_sum\n",
    "#MAIN LOOP\n",
    "# MAIN PRGRAM\n",
    "\n",
    "  row = 0\n",
    "  y=char = 0\n",
    "  while row < len(matrix):\n",
    "    char = 0\n",
    "    while char < len(matrix[0]):\n",
    "      # print('Loop pos:',row,char)\n",
    "      items_outstanding = solve_char(row,char,matrix)\n",
    "      if len(items_outstanding) == 1:\n",
    "        print('UPDATED ITEM POS',row, char,'Cur Val:',matrix[row][char], 'New Val:',sum(items_outstanding))\n",
    "        matrix[row][char] = sum(items_outstanding)\n",
    "        row = 0\n",
    "        char = 0\n",
    "        break\n",
    "      else:\n",
    "        char += 1\n",
    "    if char == 8 and row == 8:\n",
    "      print('END OF LOOP')\n",
    "      if countAllZeros(matrix) == 0:\n",
    "        return matrix\n",
    "      else:\n",
    "        row = 0\n",
    "        char = 0\n",
    "    row += 1\n",
    "  return matrix\n",
    "\n",
    "print('MY ANS  :',updateOneIteration(matrix))\n",
    "print('ORIGINAL:', m_orig)\n",
    "# NEXT STEP CHANGE LOO TO A WHILE AND RESET LOOOP WHEN FIND POPULATE A SUDUKU"
   ],
   "outputs": [
    {
     "output_type": "error",
     "ename": "TypeError",
     "evalue": "'NoneType' object is not iterable",
     "traceback": [
      "\u001b[0;31m---------------------------------------------------------------------------\u001b[0m",
      "\u001b[0;31mTypeError\u001b[0m                                 Traceback (most recent call last)",
      "\u001b[0;32m<ipython-input-38-fc1321644ff9>\u001b[0m in \u001b[0;36m<module>\u001b[0;34m\u001b[0m\n\u001b[1;32m     73\u001b[0m   \u001b[0;32mreturn\u001b[0m \u001b[0mmatrix\u001b[0m\u001b[0;34m\u001b[0m\u001b[0;34m\u001b[0m\u001b[0m\n\u001b[1;32m     74\u001b[0m \u001b[0;34m\u001b[0m\u001b[0m\n\u001b[0;32m---> 75\u001b[0;31m \u001b[0mprint\u001b[0m\u001b[0;34m(\u001b[0m\u001b[0;34m'MY ANS  :'\u001b[0m\u001b[0;34m,\u001b[0m\u001b[0mupdateOneIteration\u001b[0m\u001b[0;34m(\u001b[0m\u001b[0mmatrix\u001b[0m\u001b[0;34m)\u001b[0m\u001b[0;34m)\u001b[0m\u001b[0;34m\u001b[0m\u001b[0;34m\u001b[0m\u001b[0m\n\u001b[0m\u001b[1;32m     76\u001b[0m \u001b[0mprint\u001b[0m\u001b[0;34m(\u001b[0m\u001b[0;34m'ORIGINAL:'\u001b[0m\u001b[0;34m,\u001b[0m \u001b[0mm_orig\u001b[0m\u001b[0;34m)\u001b[0m\u001b[0;34m\u001b[0m\u001b[0;34m\u001b[0m\u001b[0m\n\u001b[1;32m     77\u001b[0m \u001b[0;31m# NEXT STEP CHANGE LOO TO A WHILE AND RESET LOOOP WHEN FIND POPULATE A SUDUKU\u001b[0m\u001b[0;34m\u001b[0m\u001b[0;34m\u001b[0m\u001b[0;34m\u001b[0m\u001b[0m\n",
      "\u001b[0;32m<ipython-input-38-fc1321644ff9>\u001b[0m in \u001b[0;36mupdateOneIteration\u001b[0;34m(matrix)\u001b[0m\n\u001b[1;32m     54\u001b[0m     \u001b[0;32mwhile\u001b[0m \u001b[0mchar\u001b[0m \u001b[0;34m<\u001b[0m \u001b[0mlen\u001b[0m\u001b[0;34m(\u001b[0m\u001b[0mmatrix\u001b[0m\u001b[0;34m[\u001b[0m\u001b[0;36m0\u001b[0m\u001b[0;34m]\u001b[0m\u001b[0;34m)\u001b[0m\u001b[0;34m:\u001b[0m\u001b[0;34m\u001b[0m\u001b[0;34m\u001b[0m\u001b[0m\n\u001b[1;32m     55\u001b[0m       \u001b[0;31m# print('Loop pos:',row,char)\u001b[0m\u001b[0;34m\u001b[0m\u001b[0;34m\u001b[0m\u001b[0;34m\u001b[0m\u001b[0m\n\u001b[0;32m---> 56\u001b[0;31m       \u001b[0mitems_outstanding\u001b[0m \u001b[0;34m=\u001b[0m \u001b[0msolve_char\u001b[0m\u001b[0;34m(\u001b[0m\u001b[0mrow\u001b[0m\u001b[0;34m,\u001b[0m\u001b[0mchar\u001b[0m\u001b[0;34m,\u001b[0m\u001b[0mmatrix\u001b[0m\u001b[0;34m)\u001b[0m\u001b[0;34m\u001b[0m\u001b[0;34m\u001b[0m\u001b[0m\n\u001b[0m\u001b[1;32m     57\u001b[0m       \u001b[0;32mif\u001b[0m \u001b[0mlen\u001b[0m\u001b[0;34m(\u001b[0m\u001b[0mitems_outstanding\u001b[0m\u001b[0;34m)\u001b[0m \u001b[0;34m==\u001b[0m \u001b[0;36m1\u001b[0m\u001b[0;34m:\u001b[0m\u001b[0;34m\u001b[0m\u001b[0;34m\u001b[0m\u001b[0m\n\u001b[1;32m     58\u001b[0m         \u001b[0mprint\u001b[0m\u001b[0;34m(\u001b[0m\u001b[0;34m'UPDATED ITEM POS'\u001b[0m\u001b[0;34m,\u001b[0m\u001b[0mrow\u001b[0m\u001b[0;34m,\u001b[0m \u001b[0mchar\u001b[0m\u001b[0;34m,\u001b[0m\u001b[0;34m'Cur Val:'\u001b[0m\u001b[0;34m,\u001b[0m\u001b[0mmatrix\u001b[0m\u001b[0;34m[\u001b[0m\u001b[0mrow\u001b[0m\u001b[0;34m]\u001b[0m\u001b[0;34m[\u001b[0m\u001b[0mchar\u001b[0m\u001b[0;34m]\u001b[0m\u001b[0;34m,\u001b[0m \u001b[0;34m'New Val:'\u001b[0m\u001b[0;34m,\u001b[0m\u001b[0msum\u001b[0m\u001b[0;34m(\u001b[0m\u001b[0mitems_outstanding\u001b[0m\u001b[0;34m)\u001b[0m\u001b[0;34m)\u001b[0m\u001b[0;34m\u001b[0m\u001b[0;34m\u001b[0m\u001b[0m\n",
      "\u001b[0;32m<ipython-input-38-fc1321644ff9>\u001b[0m in \u001b[0;36msolve_char\u001b[0;34m(row, char, matrix)\u001b[0m\n\u001b[1;32m     32\u001b[0m       \u001b[0mrow_nbrs\u001b[0m \u001b[0;34m=\u001b[0m \u001b[0mlist\u001b[0m\u001b[0;34m(\u001b[0m\u001b[0mset\u001b[0m\u001b[0;34m(\u001b[0m\u001b[0mget_row\u001b[0m\u001b[0;34m(\u001b[0m\u001b[0mrow\u001b[0m\u001b[0;34m,\u001b[0m\u001b[0mmatrix\u001b[0m\u001b[0;34m)\u001b[0m\u001b[0;34m)\u001b[0m\u001b[0;34m)\u001b[0m\u001b[0;34m\u001b[0m\u001b[0;34m\u001b[0m\u001b[0m\n\u001b[1;32m     33\u001b[0m       \u001b[0mcol_nbrs\u001b[0m \u001b[0;34m=\u001b[0m \u001b[0mlist\u001b[0m\u001b[0;34m(\u001b[0m\u001b[0mset\u001b[0m\u001b[0;34m(\u001b[0m\u001b[0mget_col\u001b[0m\u001b[0;34m(\u001b[0m\u001b[0mchar\u001b[0m\u001b[0;34m,\u001b[0m\u001b[0mmatrix\u001b[0m\u001b[0;34m)\u001b[0m\u001b[0;34m)\u001b[0m\u001b[0;34m)\u001b[0m\u001b[0;34m\u001b[0m\u001b[0;34m\u001b[0m\u001b[0m\n\u001b[0;32m---> 34\u001b[0;31m       \u001b[0msquare_nbrs\u001b[0m \u001b[0;34m=\u001b[0m \u001b[0mlist\u001b[0m\u001b[0;34m(\u001b[0m\u001b[0mset\u001b[0m\u001b[0;34m(\u001b[0m\u001b[0mget_square\u001b[0m\u001b[0;34m(\u001b[0m\u001b[0mrow\u001b[0m\u001b[0;34m,\u001b[0m\u001b[0mchar\u001b[0m\u001b[0;34m,\u001b[0m\u001b[0mmatrix\u001b[0m\u001b[0;34m)\u001b[0m\u001b[0;34m)\u001b[0m\u001b[0;34m)\u001b[0m\u001b[0;34m\u001b[0m\u001b[0;34m\u001b[0m\u001b[0m\n\u001b[0m\u001b[1;32m     35\u001b[0m       \u001b[0mall_nbrs\u001b[0m \u001b[0;34m=\u001b[0m \u001b[0mconsolidateLists\u001b[0m\u001b[0;34m(\u001b[0m\u001b[0mrow_nbrs\u001b[0m\u001b[0;34m,\u001b[0m\u001b[0mcol_nbrs\u001b[0m\u001b[0;34m,\u001b[0m\u001b[0msquare_nbrs\u001b[0m\u001b[0;34m)\u001b[0m\u001b[0;34m\u001b[0m\u001b[0;34m\u001b[0m\u001b[0m\n\u001b[1;32m     36\u001b[0m       \u001b[0mitems_outstanding\u001b[0m \u001b[0;34m=\u001b[0m \u001b[0mfindCandidates\u001b[0m\u001b[0;34m(\u001b[0m\u001b[0mall_nbrs\u001b[0m\u001b[0;34m)\u001b[0m\u001b[0;34m\u001b[0m\u001b[0;34m\u001b[0m\u001b[0m\n",
      "\u001b[0;31mTypeError\u001b[0m: 'NoneType' object is not iterable"
     ]
    }
   ],
   "metadata": {}
  },
  {
   "cell_type": "code",
   "execution_count": 34,
   "source": [
    "def findCandidates(l):\n",
    "      full = [1,2,3,4,5,6,7,8,9]\n",
    "      def getDiff(n):\n",
    "        return False if n in l else True\n",
    "      res = filter(getDiff, full)\n",
    "      return list(res)"
   ],
   "outputs": [],
   "metadata": {}
  },
  {
   "cell_type": "code",
   "execution_count": null,
   "source": [
    "# BELOW ARE EXPERIMENTS"
   ],
   "outputs": [],
   "metadata": {}
  },
  {
   "cell_type": "code",
   "execution_count": null,
   "source": [
    "# a loop that recursively goes through array\n",
    "def countAll5(matrix):\n",
    "    running_sum=0\n",
    "    for row in range(len(matrix)):\n",
    "      running_sum += matrix[row].count(4)\n",
    "    return running_sum\n",
    "\n",
    "matrix = [[1,2,3],[4,5,6],[7,8,9]]\n",
    "row = 0\n",
    "char = 0\n",
    "nbrOfFives = 10\n",
    "print(len(matrix))\n",
    "print(len(matrix[0]))\n",
    "while nbrOfFives > 0:\n",
    "  while row < len(matrix)-1:\n",
    "    while char < len(matrix[0])-1:\n",
    "      print(row,char,'Val:',matrix[row][char],':',matrix)\n",
    "    #IF THE LOOP HAS ENDED RESTART LOOP\n",
    "      if row == len(matrix)-1 and char == len(matrix[0])-1:\n",
    "        print('at the end now')\n",
    "        row = 0\n",
    "        char = 0\n",
    "        break\n",
    "      else:\n",
    "        char += 1\n",
    "    # UPDATE VAL\n",
    "      if char < 5:\n",
    "        print('updateing char', matrix[row][char],'to', matrix[row][char] + 1)\n",
    "        matrix[row][char] += 1\n",
    "    # EXIT LOOP    \n",
    "    nbrOfFives = countAll5(matrix)\n",
    "    print('nbrOfFives',nbrOfFives)\n",
    "\n",
    "print('matrix:', matrix)  \n"
   ],
   "outputs": [],
   "metadata": {}
  },
  {
   "cell_type": "code",
   "execution_count": null,
   "source": [
    "def tri_recursion(k):\n",
    "  if(k>0):\n",
    "    result = k+tri_recursion(k-1)\n",
    "    print(result)\n",
    "  else:\n",
    "    result = 0\n",
    "  return result\n",
    "\n",
    "print(\"\\n\\nRecursion Example Results\")\n",
    "tri_recursion(10)"
   ],
   "outputs": [],
   "metadata": {}
  },
  {
   "cell_type": "code",
   "execution_count": null,
   "source": [
    "def countAll5(matrix):\n",
    "    running_sum=0\n",
    "    for row in range(len(matrix)):\n",
    "      running_sum += matrix[row].count(4)\n",
    "    return running_sum\n",
    "\n",
    "def changeStuff(nbr5s):\n",
    "  if nbr5s >0:\n",
    "    for row in range(len(matrix)):\n",
    "      for char in range(len(matrix[0])):\n",
    "        print(row,char,'val:',matrix[row][char],'|',matrix)\n",
    "        if char < 5:\n",
    "          matrix[row][char] +=1\n",
    "          nbr5s = countAll5(matrix) \n",
    "  else:\n",
    "    return matrix\n",
    "matrix = [[1,2,3],[4,5,6],[7,8,9]]\n",
    "nbr5s = 2\n",
    "changeStuff(matrix, nbr5s)\n",
    "\n",
    "      "
   ],
   "outputs": [],
   "metadata": {}
  },
  {
   "cell_type": "code",
   "execution_count": null,
   "source": [
    "# SIMPLE EXAMPLE OF RECURSION WITH \n",
    "# MOMOIZATION\n",
    "fib_cache = {}\n",
    "def fibon(n):\n",
    "  if n in fib_cache:\n",
    "    return fib_cache[n]\n",
    "  if n == 1:\n",
    "    value = 1\n",
    "  elif n == 2:\n",
    "    value = 1\n",
    "  elif n> 2:\n",
    "    value = fibon(n-1) + fibon(n-2)\n",
    "  \n",
    "  fib_cache[n] = value\n",
    "  return value\n",
    "\n",
    "for n in range(1,100):\n",
    "  print(n,\",\",fibon(n))"
   ],
   "outputs": [],
   "metadata": {}
  },
  {
   "cell_type": "code",
   "execution_count": null,
   "source": [
    "# SIMPLE EXAMPLE OF RECORUSION WITH\n",
    "# MEMOIZATION WITH PYTHON TOOLS\n",
    "\n",
    "from functools import lru_cache\n",
    "@lru_cache(maxsize=1000)\n",
    "def fibon(n):\n",
    "  if n == 1:\n",
    "    return 1\n",
    "  elif n == 2:\n",
    "    return 1\n",
    "  elif n>2:\n",
    "    return fibon(n-1) + fibon(n-2)\n",
    "\n",
    "for n in range(1,100):\n",
    "  print(n,\",\",fibon(n))"
   ],
   "outputs": [],
   "metadata": {}
  },
  {
   "cell_type": "markdown",
   "source": [
    "A. single cycle  -> matrix\n",
    "\n",
    "\n",
    "solve_Suduku (matrix)\n",
    "  iterate_matrix(matrix) -> updated_Matrix\n"
   ],
   "metadata": {}
  },
  {
   "cell_type": "code",
   "execution_count": null,
   "source": [
    "# SIMPLE EXAMPLE OF RECORUSION WITH\n",
    "# MEMOIZATION WITH PYTHON TOOLS\n",
    "\n",
    "from functools import lru_cache\n",
    "@lru_cache(maxsize=1000)\n",
    "def fibon(n):\n",
    "  if n == 1:\n",
    "    return 1\n",
    "  elif n == 2:\n",
    "    return 1\n",
    "  elif n>2:\n",
    "    return fibon(n-1) + fibon(n-2)\n",
    "\n",
    "for n in range(1,100):\n",
    "  print(n,\",\",fibon(n))\n",
    "\n"
   ],
   "outputs": [],
   "metadata": {}
  },
  {
   "cell_type": "code",
   "execution_count": null,
   "source": [
    "\n",
    "def findCandidates(l):\n",
    "full = [1,2,3,4,5,6,7,8,9]\n",
    "    def getDiff(n):\n",
    "    return False if n in l else True\n",
    "    res = filter(getDiff, full)\n",
    "    return list(res)\n",
    "\n",
    "\n",
    "        "
   ],
   "outputs": [],
   "metadata": {}
  },
  {
   "cell_type": "code",
   "execution_count": 9,
   "source": [
    "# a list contains both even and odd numbers. \n",
    "seq = [0, 1, 2, 3, 5, 8, 13]\n",
    "  \n",
    "# result contains odd numbers of the list\n",
    "result = filter(lambda x: x % 2 != 0, seq)\n",
    "print(list(result))\n",
    "  \n",
    "# result contains even numbers of the list\n",
    "result = filter(lambda x: x % 2 == 0, seq)\n",
    "print(list(result))"
   ],
   "outputs": [
    {
     "output_type": "stream",
     "name": "stdout",
     "text": [
      "[1, 3, 5, 13]\n",
      "[0, 2, 8]\n"
     ]
    }
   ],
   "metadata": {}
  },
  {
   "cell_type": "code",
   "execution_count": 31,
   "source": [
    "def findCandidates(l):\n",
    "    full = [1,2,3,4,5,6,7,8,9]\n",
    "    return  list(filter(lambda x: x not in l, full))\n",
    "l=[1,2]\n",
    "print(findCandidates(l))\n",
    "\n"
   ],
   "outputs": [
    {
     "output_type": "stream",
     "name": "stdout",
     "text": [
      "[3, 4, 5, 6, 7, 8, 9]\n"
     ]
    }
   ],
   "metadata": {}
  },
  {
   "cell_type": "code",
   "execution_count": 30,
   "source": [
    "def findCandidates(l):\n",
    "      full = [1,2,3,4,5,6,7,8,9]\n",
    "      def getDiff(n):\n",
    "        return False if n in l else True\n",
    "      res = filter(getDiff, full)\n",
    "      return list(res)\n",
    "l=[1,2]\n",
    "print(findCandidates(l))"
   ],
   "outputs": [
    {
     "output_type": "stream",
     "name": "stdout",
     "text": [
      "[3, 4, 5, 6, 7, 8, 9]\n"
     ]
    }
   ],
   "metadata": {}
  },
  {
   "cell_type": "code",
   "execution_count": null,
   "source": [],
   "outputs": [],
   "metadata": {}
  }
 ],
 "metadata": {
  "interpreter": {
   "hash": "a8ed6b6aaa83e0c75564d8643a7111be6f47b679c5d32737ff20a5a7a3944855"
  },
  "kernelspec": {
   "name": "python3",
   "display_name": "Python 3.8.3 64-bit ('base': conda)"
  },
  "language_info": {
   "codemirror_mode": {
    "name": "ipython",
    "version": 3
   },
   "file_extension": ".py",
   "mimetype": "text/x-python",
   "name": "python",
   "nbconvert_exporter": "python",
   "pygments_lexer": "ipython3",
   "version": "3.8.3"
  },
  "orig_nbformat": 4
 },
 "nbformat": 4,
 "nbformat_minor": 2
}