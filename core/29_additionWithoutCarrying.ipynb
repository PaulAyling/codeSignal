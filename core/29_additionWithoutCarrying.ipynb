{
 "cells": [
  {
   "cell_type": "code",
   "execution_count": 45,
   "metadata": {},
   "outputs": [
    {
     "name": "stdout",
     "output_type": "stream",
     "text": [
      "1234\n",
      "456\n",
      "fin\n",
      "fin\n",
      "fin\n",
      "3 4\n",
      "longestLen 4\n",
      "myAns: None\n",
      "ans: 1180\n"
     ]
    }
   ],
   "source": [
    "def additionWithoutCarrying(param1, param2):\n",
    "  def longest_shortest(a,b):\n",
    "    return (a,b) if a> b else (b,a)\n",
    "  longest = str(longest_shortest(param1,param2)[0])\n",
    "  shortest = str(longest_shortest(param1,param2)[1])\n",
    "  longest_len = len(longest)\n",
    "  shortest_len = len(shortest)\n",
    "  print(longest)\n",
    "  print(shortest)\n",
    "\n",
    "  res = []\n",
    "  for n in range(longest_len):\n",
    "    if n >= shortest_len:\n",
    "      # cur_sum = int(longest[longest_len-1-n]) + int(shortest[shortest-1-n])\n",
    "      cur_sum = int(longest[n])\n",
    "      print(n, cur_sum)\n",
    "      print('longestLen',longest_len)\n",
    "    else:\n",
    "      print('fin')\n",
    "\n",
    "    \n",
    "\n",
    "\n",
    "param1 = 456\n",
    "param2 = 1234\n",
    "ans = 1180\n",
    "\n",
    "print('myAns:',additionWithoutCarrying(param1, param2))\n",
    "print('ans:',ans)"
   ]
  },
  {
   "cell_type": "code",
   "execution_count": 25,
   "metadata": {},
   "outputs": [
    {
     "name": "stdout",
     "output_type": "stream",
     "text": [
      "6\n",
      "7\n"
     ]
    }
   ],
   "source": [
    "st = str(456)\n",
    "st_2 = str(7687)\n",
    "print(st[2])\n",
    "print(st_2[3])\n",
    "\n",
    "\n",
    "def getPos(a,b,):\n"
   ]
  },
  {
   "cell_type": "code",
   "execution_count": null,
   "metadata": {},
   "outputs": [],
   "source": []
  }
 ],
 "metadata": {
  "interpreter": {
   "hash": "a8ed6b6aaa83e0c75564d8643a7111be6f47b679c5d32737ff20a5a7a3944855"
  },
  "kernelspec": {
   "display_name": "Python 3.8.5 64-bit ('base': conda)",
   "name": "python3"
  },
  "language_info": {
   "codemirror_mode": {
    "name": "ipython",
    "version": 3
   },
   "file_extension": ".py",
   "mimetype": "text/x-python",
   "name": "python",
   "nbconvert_exporter": "python",
   "pygments_lexer": "ipython3",
   "version": "3.8.5"
  },
  "orig_nbformat": 4
 },
 "nbformat": 4,
 "nbformat_minor": 2
}