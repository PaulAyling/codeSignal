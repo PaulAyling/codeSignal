{
 "cells": [
  {
   "cell_type": "code",
   "execution_count": 21,
   "metadata": {},
   "outputs": [
    {
     "name": "stdout",
     "output_type": "stream",
     "text": [
      "in range: 0 3\n",
      "in range: 1 3\n",
      "in range: 2 3\n",
      "myAns: None\n",
      "ans: 1180\n"
     ]
    }
   ],
   "source": [
    "def additionWithoutCarrying(param1, param2):\n",
    "  st_1 = str(param1)\n",
    "  st_2 = str(param2)\n",
    "\n",
    "  def longest_st_len(a,b):\n",
    "      return len(a) if a>b else len(b)\n",
    "  \n",
    "  longest_st_len = longest_st_len(st_1,st_2)\n",
    "  res = []\n",
    "  for n in range(longest_st_len):\n",
    "    if len(st_1) >n-1 and  len(st_1) >n-1:\n",
    "      # item = st_1[len(st_1)-n] +  st_2[len(st_2)-n]\n",
    "      # print(n,':',item)\n",
    "      print('in range:', n,st_2[len(st_2)-2])\n",
    "    else:\n",
    "      print('fin!')\n",
    "    \n",
    "\n",
    "\n",
    "param1 = 456\n",
    "param2 = 1734\n",
    "ans = 1180\n",
    "\n",
    "print('myAns:',additionWithoutCarrying(param1, param2))\n",
    "print('ans:',ans)"
   ]
  },
  {
   "cell_type": "code",
   "execution_count": null,
   "metadata": {},
   "outputs": [],
   "source": []
  }
 ],
 "metadata": {
  "interpreter": {
   "hash": "a8ed6b6aaa83e0c75564d8643a7111be6f47b679c5d32737ff20a5a7a3944855"
  },
  "kernelspec": {
   "display_name": "Python 3.8.5 64-bit ('base': conda)",
   "name": "python3"
  },
  "language_info": {
   "codemirror_mode": {
    "name": "ipython",
    "version": 3
   },
   "file_extension": ".py",
   "mimetype": "text/x-python",
   "name": "python",
   "nbconvert_exporter": "python",
   "pygments_lexer": "ipython3",
   "version": "3.8.5"
  },
  "orig_nbformat": 4
 },
 "nbformat": 4,
 "nbformat_minor": 2
}