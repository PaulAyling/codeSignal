{
 "metadata": {
  "language_info": {
   "codemirror_mode": {
    "name": "ipython",
    "version": 3
   },
   "file_extension": ".py",
   "mimetype": "text/x-python",
   "name": "python",
   "nbconvert_exporter": "python",
   "pygments_lexer": "ipython3",
   "version": "3.8.3"
  },
  "orig_nbformat": 4,
  "kernelspec": {
   "name": "python3",
   "display_name": "Python 3.8.3 64-bit ('base': conda)"
  },
  "interpreter": {
   "hash": "a8ed6b6aaa83e0c75564d8643a7111be6f47b679c5d32737ff20a5a7a3944855"
  }
 },
 "nbformat": 4,
 "nbformat_minor": 2,
 "cells": [
  {
   "cell_type": "code",
   "execution_count": 14,
   "metadata": {},
   "outputs": [
    {
     "output_type": "stream",
     "name": "stdout",
     "text": [
      "[1, 4, 5, 7, 8]\nl 8\nl 7\nl 6\nlast_contigeous_zero_pos 7\nMyAns None\nans: True\n"
     ]
    }
   ],
   "source": [
    "def increaseNumberRoundness(n):\n",
    "    def last_contigeous_zero_pos(l):\n",
    "        pos = 0\n",
    "        for n in range(len(l)-1,0,-1):\n",
    "            print('l',n)\n",
    "            if l[n] == '0':\n",
    "                pos = n\n",
    "            else:\n",
    "                return pos\n",
    "    positions_zeros = getZeroPos(str(n))\n",
    "    print(positions_zeros)\n",
    "    print('last_contigeous_zero_pos',last_contigeous_zero_pos(str(n)) )\n",
    "    if \n",
    "\n",
    "    \n",
    "n = 902200100\n",
    "ans = True\n",
    "print('MyAns',increaseNumberRoundness(n))\n",
    "print('ans:', ans)"
   ]
  },
  {
   "cell_type": "code",
   "execution_count": 1,
   "metadata": {},
   "outputs": [
    {
     "output_type": "stream",
     "name": "stdout",
     "text": [
      "[6, 12]\n"
     ]
    }
   ],
   "source": [
    "test = 'canada#japan#uae'\n",
    "c = '#'\n",
    "print([pos for pos, char in enumerate(test) if char == c])"
   ]
  },
  {
   "cell_type": "code",
   "execution_count": null,
   "metadata": {},
   "outputs": [],
   "source": []
  }
 ]
}