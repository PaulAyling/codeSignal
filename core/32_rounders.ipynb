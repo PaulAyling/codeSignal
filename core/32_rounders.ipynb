{
 "metadata": {
  "language_info": {
   "codemirror_mode": {
    "name": "ipython",
    "version": 3
   },
   "file_extension": ".py",
   "mimetype": "text/x-python",
   "name": "python",
   "nbconvert_exporter": "python",
   "pygments_lexer": "ipython3",
   "version": "3.8.3"
  },
  "orig_nbformat": 4,
  "kernelspec": {
   "name": "python3",
   "display_name": "Python 3.8.3 64-bit ('base': conda)"
  },
  "interpreter": {
   "hash": "a8ed6b6aaa83e0c75564d8643a7111be6f47b679c5d32737ff20a5a7a3944855"
  }
 },
 "nbformat": 4,
 "nbformat_minor": 2,
 "cells": [
  {
   "cell_type": "code",
   "execution_count": 40,
   "metadata": {},
   "outputs": [
    {
     "output_type": "stream",
     "name": "stdout",
     "text": [
      "pos: 0 val: 1 1000 1000\npos: 1 val: 4 0 1000\npos: 2 val: 4 0 1000\npos: 3 val: 5 0 1000\nmyAns 1000\nans: 2000\n"
     ]
    }
   ],
   "source": [
    "def rounders(n):\n",
    "    # put into list\n",
    "    # use reduce on list\n",
    "    l = list(str(n))\n",
    "\n",
    "    def rounder(i, pos):\n",
    "        if i == 0 or i == 1:\n",
    "            return i*10**(pos-1)\n",
    "        else:\n",
    "            if i<=5:\n",
    "                return  0\n",
    "            else:\n",
    "                return 10\n",
    "\n",
    "    res = 0\n",
    "    for item in range(len(l)):\n",
    "        new_nbr = rounder(int(l[item]),len(l) - item )\n",
    "        res += new_nbr\n",
    "        print('pos:',item,'val:',l[item],new_nbr,res)\n",
    "    return res\n",
    "    \n",
    "\n",
    "n= 1445\n",
    "ans = 2000\n",
    "print('myAns',rounders(n))\n",
    "print('ans:', ans)"
   ]
  },
  {
   "cell_type": "code",
   "execution_count": 27,
   "metadata": {},
   "outputs": [
    {
     "output_type": "stream",
     "name": "stdout",
     "text": [
      "1048576\n"
     ]
    }
   ],
   "source": [
    "print(2**20)"
   ]
  },
  {
   "cell_type": "code",
   "execution_count": 31,
   "metadata": {},
   "outputs": [
    {
     "output_type": "stream",
     "name": "stdout",
     "text": [
      "100\n1000\n"
     ]
    }
   ],
   "source": [
    "print(1*10*10)\n",
    "print(1*10**3)"
   ]
  },
  {
   "cell_type": "code",
   "execution_count": null,
   "metadata": {},
   "outputs": [],
   "source": []
  }
 ]
}