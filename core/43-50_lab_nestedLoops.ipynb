{
 "metadata": {
  "language_info": {
   "codemirror_mode": {
    "name": "ipython",
    "version": 3
   },
   "file_extension": ".py",
   "mimetype": "text/x-python",
   "name": "python",
   "nbconvert_exporter": "python",
   "pygments_lexer": "ipython3",
   "version": "3.8.3"
  },
  "orig_nbformat": 2,
  "kernelspec": {
   "name": "python3",
   "display_name": "Python 3.8.3 64-bit",
   "metadata": {
    "interpreter": {
     "hash": "a8ed6b6aaa83e0c75564d8643a7111be6f47b679c5d32737ff20a5a7a3944855"
    }
   }
  }
 },
 "nbformat": 4,
 "nbformat_minor": 2,
 "cells": [
  {
   "cell_type": "code",
   "execution_count": null,
   "metadata": {},
   "outputs": [],
   "source": [
    "# def isPower(n):\n",
    "\n",
    "#is n a power?\n",
    "\n"
   ]
  },
  {
   "cell_type": "code",
   "execution_count": 1,
   "metadata": {},
   "outputs": [
    {
     "output_type": "stream",
     "name": "stdout",
     "text": [
      "False\nTrue\nFalse\nTrue\nFalse\nTrue\nTrue\n"
     ]
    }
   ],
   "source": [
    "import math\n",
    "\n",
    "def isPower (n, base):\n",
    "    if base == 1 and n != 1:\n",
    "        return False\n",
    "    if base == 1 and n == 1:\n",
    "        return True\n",
    "    if base == 0 and n != 1:\n",
    "        return False\n",
    "    power = int (math.log(n, base) + 0.5)\n",
    "    return base ** power == n\n",
    "\n",
    "print(isPower(127,2))\n",
    "print(isPower(128,2))\n",
    "\n",
    "print(isPower(27,2))\n",
    "print(isPower (27,3))\n",
    "print(isPower (28,3))\n",
    "print(isPower (2**10,2))\n",
    "print(isPower (2**12,2))"
   ]
  },
  {
   "cell_type": "code",
   "execution_count": 3,
   "metadata": {},
   "outputs": [
    {
     "output_type": "stream",
     "name": "stdout",
     "text": [
      "32\n"
     ]
    }
   ],
   "source": [
    "n = 2\n",
    "pow = 2\n",
    "print(2*2*2*2*2)"
   ]
  },
  {
   "cell_type": "code",
   "execution_count": null,
   "metadata": {},
   "outputs": [],
   "source": []
  }
 ]
}