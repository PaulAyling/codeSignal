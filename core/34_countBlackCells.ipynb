{
 "cells": [
  {
   "cell_type": "code",
   "execution_count": 31,
   "source": [
    "def countBlackCells(n, m):\n",
    "  def getPower(n):\n",
    "    digitsNbr = len(str(n))\n",
    "    res = 10**(digitsNbr-1)\n",
    "    return res\n",
    "  multiplyer = getPower(n)\n",
    "  print(n + m)\n",
    "  print(9)\n",
    "\n",
    "  if n == m == 1:\n",
    "    return 1\n",
    "  if n > 9:\n",
    "    multiplyer = 10\n",
    "  if n == m:\n",
    "    return n + m + (1 )\n",
    "  else:\n",
    "    return n + m + (9  )\n",
    "\n",
    "n=33\n",
    "m=44\n",
    "ans = 86\n",
    "print(countBlackCells(n, m),'correct is', ans)"
   ],
   "outputs": [
    {
     "output_type": "stream",
     "name": "stdout",
     "text": [
      "77\n",
      "9\n",
      "86 correct is 86\n"
     ]
    }
   ],
   "metadata": {}
  },
  {
   "cell_type": "code",
   "execution_count": 20,
   "source": [
    "def getPower(n):\n",
    "  digitsNbr = len(str(n))\n",
    "  res = 10**(digitsNbr-1)\n",
    "  return res\n",
    "n= 300\n",
    "print(getPower(n))"
   ],
   "outputs": [
    {
     "output_type": "stream",
     "name": "stdout",
     "text": [
      "100\n"
     ]
    }
   ],
   "metadata": {}
  },
  {
   "cell_type": "code",
   "execution_count": null,
   "source": [],
   "outputs": [],
   "metadata": {}
  }
 ],
 "metadata": {
  "orig_nbformat": 4,
  "language_info": {
   "name": "python",
   "version": "3.8.3",
   "mimetype": "text/x-python",
   "codemirror_mode": {
    "name": "ipython",
    "version": 3
   },
   "pygments_lexer": "ipython3",
   "nbconvert_exporter": "python",
   "file_extension": ".py"
  },
  "kernelspec": {
   "name": "python3",
   "display_name": "Python 3.8.3 64-bit ('base': conda)"
  },
  "interpreter": {
   "hash": "a8ed6b6aaa83e0c75564d8643a7111be6f47b679c5d32737ff20a5a7a3944855"
  }
 },
 "nbformat": 4,
 "nbformat_minor": 2
}