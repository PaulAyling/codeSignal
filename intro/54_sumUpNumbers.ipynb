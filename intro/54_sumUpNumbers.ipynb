{
 "metadata": {
  "language_info": {
   "codemirror_mode": {
    "name": "ipython",
    "version": 3
   },
   "file_extension": ".py",
   "mimetype": "text/x-python",
   "name": "python",
   "nbconvert_exporter": "python",
   "pygments_lexer": "ipython3",
   "version": "3.8.3"
  },
  "orig_nbformat": 4,
  "kernelspec": {
   "name": "python3",
   "display_name": "Python 3.8.3 64-bit ('base': conda)"
  },
  "interpreter": {
   "hash": "a8ed6b6aaa83e0c75564d8643a7111be6f47b679c5d32737ff20a5a7a3944855"
  }
 },
 "nbformat": 4,
 "nbformat_minor": 2,
 "cells": [
  {
   "cell_type": "code",
   "execution_count": 14,
   "metadata": {},
   "outputs": [
    {
     "output_type": "stream",
     "name": "stdout",
     "text": [
      "res_string 239\nres [0, 12, 5566, 770, 239]\nMy Ans: 6587 Given Ans: 6587\n"
     ]
    }
   ],
   "source": [
    "def sumUpNumbers(inputString):\n",
    "    res_string = ''\n",
    "    res = [0]\n",
    "    def isNumber(c):\n",
    "        return True if ord(c) in range(48,58) else False\n",
    "    for item in inputString:\n",
    "        if isNumber(item):\n",
    "            res_string += item\n",
    "        else:\n",
    "            if res_string != '':\n",
    "                res.append(int(res_string))\n",
    "                res_string =''\n",
    "                \n",
    "    print('res_string',res_string)\n",
    "    if len(res) == 1:\n",
    "        if res_string == '':\n",
    "            res = [0]\n",
    "        else:\n",
    "            res.append(int(res_string))\n",
    "\n",
    "    if res_string != '':\n",
    "        res.append(int(res_string))\n",
    "\n",
    "    print('res',res)\n",
    "    return sum(res)\n",
    "\n",
    "# test = ('2 apples, 12 oranges','14')\n",
    "# test = ('123450',       '123450')\n",
    "# test = ('Your payment method is invalid',       '0')\n",
    "test = ('there are some (12) digits 5566 in this 770 string 239',       '6587')\n",
    "print('My Ans:',sumUpNumbers(test[0]),'Given Ans:', test[1])"
   ]
  },
  {
   "cell_type": "code",
   "execution_count": 10,
   "metadata": {},
   "outputs": [
    {
     "output_type": "stream",
     "name": "stdout",
     "text": [
      "6587\n"
     ]
    }
   ],
   "source": [
    "print(sum([12,5566,770,239]))"
   ]
  },
  {
   "cell_type": "code",
   "execution_count": null,
   "metadata": {},
   "outputs": [],
   "source": []
  }
 ]
}